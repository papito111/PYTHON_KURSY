{
 "cells": [
  {
   "cell_type": "code",
   "execution_count": 22,
   "metadata": {},
   "outputs": [],
   "source": [
    "import speech_recognition as sr\n",
    "import os\n",
    "#from vosk import Model\n",
    "import seaborn as sns\n",
    "import pandas as pd\n",
    "import neattext\n",
    "\n"
   ]
  },
  {
   "cell_type": "code",
   "execution_count": null,
   "metadata": {},
   "outputs": [],
   "source": []
  },
  {
   "cell_type": "code",
   "execution_count": 23,
   "metadata": {},
   "outputs": [],
   "source": [
    "r = sr.Recognizer()\n",
    "# # audio = sr.AudioFile(\"C:\\\\Users\\\\dawbr\\\\Desktop\\\\podftp\\\\midlands_english_male\\\\mim_02484_00159368346.wav\")\n",
    "# wi#th audio as source:\n",
    "#     #r.adjust_for_ambient_noise(source, source)\n",
    "#     audi#o_data = r.record(source)"
   ]
  },
  {
   "cell_type": "code",
   "execution_count": 24,
   "metadata": {},
   "outputs": [],
   "source": [
    "#text = r.recognize_vosk(audio_data)#jhdashj\n",
    "#print(text)"
   ]
  },
  {
   "cell_type": "markdown",
   "metadata": {},
   "source": [
    "Transcribing all .wav files from directory"
   ]
  },
  {
   "cell_type": "code",
   "execution_count": 25,
   "metadata": {},
   "outputs": [],
   "source": [
    "#import speech_recognition as sr\n",
    "# import osdssdsa\n",
    "\n",
    "#initialize recognizer\n",
    "#r = sr.Recognizer()\n",
    "\n",
    "#target directory containing all .wav files\n",
    "#directory = os.fsencode(\"C:\\\\Users\\\\dawbr\\\\Desktop\\\\podftp\\\\midlands_english_male\") #lokalizacja jest na bitach dlatego funkcja fsencode\n",
    "\n",
    "# #loop trough all files in dir    \n",
    "# #for file in os.listdir(directory):\n",
    "#     #filename = os.fsdecode(file) #funkcja uzywa nazwy pliku wiec uzyje fsdecode zwracajacy str\n",
    "#     #check if file is .wav\n",
    "#     if filename.endswith(\".wav\"):\n",
    "#         #load audio file to memory\n",
    "#         audio = sr.AudioFile(\"C:\\\\Users\\\\dawbr\\\\Desktop\\\\podftp\\\\midlands_english_male\\\\\" + filename)\n",
    "#         with audio as source:\n",
    "#             #read audio file\n",
    "#             audio_data = r.record(source)\n",
    "#         #transcribe audio file using vosk library (needs model folder avaialbe at https://alphacephei.com/vosk/models)\n",
    "#         text = r.recognize_vosk(audio_data)\n",
    "#         print(text)"
   ]
  },
  {
   "cell_type": "markdown",
   "metadata": {},
   "source": [
    "Find ur microphone"
   ]
  },
  {
   "cell_type": "code",
   "execution_count": 26,
   "metadata": {},
   "outputs": [],
   "source": [
    "# # import speech_recognition as sr\n",
    "# for index, name in enumerate(sr.Microphone.list_microphone_names()):\n",
    "#     print(\"Microphone with name \\\"{1}\\\" found for `Microphone(device_index={0})`\".format(index, name))# # "
   ]
  },
  {
   "cell_type": "code",
   "execution_count": 27,
   "metadata": {},
   "outputs": [],
   "source": [
    "microphone = sr.Microphone(device_index=15)"
   ]
  },
  {
   "cell_type": "code",
   "execution_count": 28,
   "metadata": {},
   "outputs": [
    {
     "name": "stdout",
     "output_type": "stream",
     "text": [
      "Say something!\n",
      "listening finished\n",
      "You said: {\n",
      "  \"text\" : \"i have a bad day\"\n",
      "}\n"
     ]
    }
   ],
   "source": [
    "text = \"\"\n",
    "with microphone as source:\n",
    "    print(\"Say something!\")\n",
    "    try:\n",
    "        audio = r.listen(source, timeout=3)\n",
    "        print(\"listening finished\")\n",
    "        # Convert audio to text\n",
    "        text = r.recognize_vosk(audio)\n",
    "        print(\"You said:\", text)\n",
    "    except sr.WaitTimeoutError:\n",
    "        print(\"No speech detected after 3 seconds.\")"
   ]
  },
  {
   "cell_type": "code",
   "execution_count": 29,
   "metadata": {},
   "outputs": [],
   "source": [
    "#analizujemy zmienna text"
   ]
  },
  {
   "cell_type": "code",
   "execution_count": 30,
   "metadata": {},
   "outputs": [
    {
     "name": "stdout",
     "output_type": "stream",
     "text": [
      "0\n"
     ]
    }
   ],
   "source": [
    "#slowa kluczowe jesli cos z listy jest w tekscie to bedzie slowem kluczowym, chodzi o odmiiany\n",
    "\n",
    "word_list = [\"kot\", \"pies\", \"ryba\", \"ptak\"]\n",
    "\n",
    "\n",
    "found = any(word in text for word in word_list)\n",
    "\n",
    "if found:\n",
    "    print('11')\n",
    "else:\n",
    "    print('0')"
   ]
  },
  {
   "cell_type": "code",
   "execution_count": 31,
   "metadata": {},
   "outputs": [],
   "source": [
    "#wrzucac w dataframe zdanie w ktorym bylo dane slowo klucz typu \"kot\" a nastepnie dopisanie czasu gdy to powiedziano i sentyment tego zdania na koncu programu"
   ]
  },
  {
   "cell_type": "code",
   "execution_count": 32,
   "metadata": {},
   "outputs": [
    {
     "name": "stdout",
     "output_type": "stream",
     "text": [
      "sentence is negative\n"
     ]
    }
   ],
   "source": [
    "from textblob import TextBlob\n",
    "blob = TextBlob(text)\n",
    "sentiment = blob.sentiment.polarity\n",
    "if sentiment>0:\n",
    "    print('sentence is positive')\n",
    "elif sentiment<0:\n",
    "    print('sentence is negative')\n",
    "else:\n",
    "    print('sentence is neutral')\n",
    "\n"
   ]
  },
  {
   "cell_type": "code",
   "execution_count": null,
   "metadata": {},
   "outputs": [],
   "source": []
  },
  {
   "cell_type": "code",
   "execution_count": 33,
   "metadata": {},
   "outputs": [
    {
     "name": "stderr",
     "output_type": "stream",
     "text": [
      "C:\\Users\\AdrianKurzac(261404)\\AppData\\Local\\Temp\\ipykernel_17296\\1564249215.py:15: FutureWarning: The behavior of DataFrame concatenation with empty or all-NA entries is deprecated. In a future version, this will no longer exclude empty or all-NA columns when determining the result dtypes. To retain the old behavior, exclude the relevant entries before the concat operation.\n",
      "  df = pd.concat([df, new_row], ignore_index=True)\n"
     ]
    },
    {
     "data": {
      "text/html": [
       "<div>\n",
       "<style scoped>\n",
       "    .dataframe tbody tr th:only-of-type {\n",
       "        vertical-align: middle;\n",
       "    }\n",
       "\n",
       "    .dataframe tbody tr th {\n",
       "        vertical-align: top;\n",
       "    }\n",
       "\n",
       "    .dataframe thead th {\n",
       "        text-align: right;\n",
       "    }\n",
       "</style>\n",
       "<table border=\"1\" class=\"dataframe\">\n",
       "  <thead>\n",
       "    <tr style=\"text-align: right;\">\n",
       "      <th></th>\n",
       "      <th>Text</th>\n",
       "      <th>Date</th>\n",
       "      <th>Time</th>\n",
       "      <th>Sentiment</th>\n",
       "    </tr>\n",
       "  </thead>\n",
       "  <tbody>\n",
       "    <tr>\n",
       "      <th>0</th>\n",
       "      <td>{\\n  \"text\" : \"i have a bad day\"\\n}</td>\n",
       "      <td>2024-02-21</td>\n",
       "      <td>19:36:15.737176</td>\n",
       "      <td>-0.7</td>\n",
       "    </tr>\n",
       "  </tbody>\n",
       "</table>\n",
       "</div>"
      ],
      "text/plain": [
       "                                  Text        Date             Time  Sentiment\n",
       "0  {\\n  \"text\" : \"i have a bad day\"\\n}  2024-02-21  19:36:15.737176       -0.7"
      ]
     },
     "execution_count": 33,
     "metadata": {},
     "output_type": "execute_result"
    }
   ],
   "source": [
    "import pandas as pd\n",
    "from datetime import datetime\n",
    "\n",
    "# Sprawdź, czy plik CSV już istnieje\n",
    "\n",
    "df = pd.read_csv('kek.csv')\n",
    "\n",
    "\n",
    "current_datetime = datetime.now()\n",
    "\n",
    "# Utwórz nowy DataFrame dla nowego wiersza\n",
    "new_row = pd.DataFrame([[text, current_datetime.date(), current_datetime.time(), sentiment]], columns=['Text', 'Date', 'Time', 'Sentiment'])\n",
    "\n",
    "# Połącz nowy DataFrame z istniejącym DataFrame\n",
    "df = pd.concat([df, new_row], ignore_index=True)\n",
    "\n",
    "# Zapisz DataFrame do pliku CSV\n",
    "df.to_csv('data.csv', index=False)\n",
    "\n",
    "# Wyświetl DataFrame\n",
    "df"
   ]
  },
  {
   "cell_type": "code",
   "execution_count": 34,
   "metadata": {},
   "outputs": [],
   "source": [
    "import neattext.functions as nfx"
   ]
  },
  {
   "cell_type": "code",
   "execution_count": 35,
   "metadata": {},
   "outputs": [],
   "source": [
    "from sklearn.linear_model import LogisticRegression\n",
    "from sklearn.naive_bayes import MultinomialNB\n",
    "\n",
    "# Transformers\n",
    "from sklearn.feature_extraction.text import CountVectorizer\n",
    "from sklearn.model_selection import train_test_split\n",
    "from sklearn.metrics import accuracy_score,classification_report,confusion_matrix\n",
    "from sklearn.svm import SVC\n",
    "from sklearn.ensemble import RandomForestClassifier"
   ]
  },
  {
   "cell_type": "code",
   "execution_count": 36,
   "metadata": {},
   "outputs": [],
   "source": [
    "df1 = pd.read_csv('emotion_dataset_2.csv')\n",
    "df1.head()\n",
    "df1 = df1.dropna()"
   ]
  },
  {
   "cell_type": "code",
   "execution_count": null,
   "metadata": {},
   "outputs": [],
   "source": []
  },
  {
   "cell_type": "code",
   "execution_count": null,
   "metadata": {},
   "outputs": [],
   "source": []
  },
  {
   "cell_type": "code",
   "execution_count": 37,
   "metadata": {},
   "outputs": [],
   "source": [
    "X = df1['Clean_Text']\n",
    "Y = df1['Emotion']"
   ]
  },
  {
   "cell_type": "code",
   "execution_count": 38,
   "metadata": {},
   "outputs": [],
   "source": [
    "X_train, X_test, Y_train, Y_test = train_test_split(X,Y,test_size=0.2)"
   ]
  },
  {
   "cell_type": "code",
   "execution_count": 39,
   "metadata": {},
   "outputs": [],
   "source": [
    "from sklearn.pipeline import Pipeline\n",
    "import xgboost as xgb\n",
    "from sklearn.ensemble import RandomForestClassifier, RandomForestRegressor, GradientBoostingRegressor\n",
    "pipe_LR = Pipeline(steps=[('cv',CountVectorizer()),('lr',LogisticRegression(max_iter=2000,solver='lbfgs',C =2))])\n",
    "pipe_RF = Pipeline(steps=[('cv',CountVectorizer()),('lr',RandomForestClassifier())])\n",
    "pipe_SVC = Pipeline(steps=[('cv',CountVectorizer()),('lr',SVC())])\n",
    "pipe_GB = Pipeline(steps=[('cv',CountVectorizer()),('lr',xgb.XGBClassifier(objective ='multi:softmax',  \n",
    "    num_class= len(set(Y_train)),  \n",
    "    max_depth= 3,  \n",
    "    eta= 0.1,  \n",
    "    subsample= 0.8,  \n",
    "    colsample_bytree= 0.8,))])\n",
    "pipe_GBR = Pipeline(steps=[('cv',CountVectorizer()),('lr',GradientBoostingRegressor(learning_rate=0.2,max_depth=8,n_estimators=200))])\n"
   ]
  },
  {
   "cell_type": "code",
   "execution_count": null,
   "metadata": {},
   "outputs": [],
   "source": []
  },
  {
   "cell_type": "code",
   "execution_count": 40,
   "metadata": {},
   "outputs": [],
   "source": [
    "# pipe_RF.fit(X_train,Y_train)\n",
    "# pipe_RF.score(X_test,Y_test)# dokladnosc 0.59"
   ]
  },
  {
   "cell_type": "code",
   "execution_count": 41,
   "metadata": {},
   "outputs": [],
   "source": [
    "# pipe_SVC.fit(X_train,Y_train)\n",
    "# pipe_SVC.score(X_test,Y_test)#0.61"
   ]
  },
  {
   "cell_type": "code",
   "execution_count": null,
   "metadata": {},
   "outputs": [],
   "source": []
  },
  {
   "cell_type": "code",
   "execution_count": 42,
   "metadata": {},
   "outputs": [],
   "source": [
    "# from sklearn.preprocessing import LabelEncoder\n",
    "# Y_train_encoded = LabelEncoder().fit_transform(Y_train)\n",
    "# Y_test_encoded = LabelEncoder().fit_transform(Y_test)\n",
    "# pipe_GB.fit(X_train,Y_train_encoded)\n",
    "# pipe_GB.score(X_test,Y_test_encoded)#0.52"
   ]
  },
  {
   "cell_type": "code",
   "execution_count": 43,
   "metadata": {},
   "outputs": [],
   "source": [
    "# pipe_GBR.fit(X_train,Y_train_encoded)\n",
    "# pipe_GBR.score(X_test,Y_test_encoded)# 0.30"
   ]
  },
  {
   "cell_type": "code",
   "execution_count": 44,
   "metadata": {},
   "outputs": [],
   "source": [
    "# pipe_SVC = Pipeline(steps=[('cv',CountVectorizer()),('lr',SVC(kernel = 'rbf'))])\n",
    "# pipe_SVC.fit(X_train,Y_train)\n",
    "# pipe_SVC.score(X_test,Y_test)"
   ]
  },
  {
   "cell_type": "code",
   "execution_count": 45,
   "metadata": {},
   "outputs": [],
   "source": [
    "# pipe_SVC = Pipeline(steps=[('cv',CountVectorizer()),('lr',SVC(kernel = 'linear'))])\n",
    "# pipe_SVC.fit(X_train,Y_train)\n",
    "# pipe_SVC.score(X_test,Y_test)"
   ]
  },
  {
   "cell_type": "code",
   "execution_count": 46,
   "metadata": {},
   "outputs": [],
   "source": [
    "# pipe_SVC = Pipeline(steps=[('cv',CountVectorizer()),('lr',SVC(kernel = 'poly'))])\n",
    "# pipe_SVC.fit(X_train,Y_train)\n",
    "# pipe_SVC.score(X_test,Y_test)"
   ]
  },
  {
   "cell_type": "code",
   "execution_count": 61,
   "metadata": {},
   "outputs": [
    {
     "data": {
      "text/html": [
       "<style>#sk-container-id-1 {color: black;}#sk-container-id-1 pre{padding: 0;}#sk-container-id-1 div.sk-toggleable {background-color: white;}#sk-container-id-1 label.sk-toggleable__label {cursor: pointer;display: block;width: 100%;margin-bottom: 0;padding: 0.3em;box-sizing: border-box;text-align: center;}#sk-container-id-1 label.sk-toggleable__label-arrow:before {content: \"▸\";float: left;margin-right: 0.25em;color: #696969;}#sk-container-id-1 label.sk-toggleable__label-arrow:hover:before {color: black;}#sk-container-id-1 div.sk-estimator:hover label.sk-toggleable__label-arrow:before {color: black;}#sk-container-id-1 div.sk-toggleable__content {max-height: 0;max-width: 0;overflow: hidden;text-align: left;background-color: #f0f8ff;}#sk-container-id-1 div.sk-toggleable__content pre {margin: 0.2em;color: black;border-radius: 0.25em;background-color: #f0f8ff;}#sk-container-id-1 input.sk-toggleable__control:checked~div.sk-toggleable__content {max-height: 200px;max-width: 100%;overflow: auto;}#sk-container-id-1 input.sk-toggleable__control:checked~label.sk-toggleable__label-arrow:before {content: \"▾\";}#sk-container-id-1 div.sk-estimator input.sk-toggleable__control:checked~label.sk-toggleable__label {background-color: #d4ebff;}#sk-container-id-1 div.sk-label input.sk-toggleable__control:checked~label.sk-toggleable__label {background-color: #d4ebff;}#sk-container-id-1 input.sk-hidden--visually {border: 0;clip: rect(1px 1px 1px 1px);clip: rect(1px, 1px, 1px, 1px);height: 1px;margin: -1px;overflow: hidden;padding: 0;position: absolute;width: 1px;}#sk-container-id-1 div.sk-estimator {font-family: monospace;background-color: #f0f8ff;border: 1px dotted black;border-radius: 0.25em;box-sizing: border-box;margin-bottom: 0.5em;}#sk-container-id-1 div.sk-estimator:hover {background-color: #d4ebff;}#sk-container-id-1 div.sk-parallel-item::after {content: \"\";width: 100%;border-bottom: 1px solid gray;flex-grow: 1;}#sk-container-id-1 div.sk-label:hover label.sk-toggleable__label {background-color: #d4ebff;}#sk-container-id-1 div.sk-serial::before {content: \"\";position: absolute;border-left: 1px solid gray;box-sizing: border-box;top: 0;bottom: 0;left: 50%;z-index: 0;}#sk-container-id-1 div.sk-serial {display: flex;flex-direction: column;align-items: center;background-color: white;padding-right: 0.2em;padding-left: 0.2em;position: relative;}#sk-container-id-1 div.sk-item {position: relative;z-index: 1;}#sk-container-id-1 div.sk-parallel {display: flex;align-items: stretch;justify-content: center;background-color: white;position: relative;}#sk-container-id-1 div.sk-item::before, #sk-container-id-1 div.sk-parallel-item::before {content: \"\";position: absolute;border-left: 1px solid gray;box-sizing: border-box;top: 0;bottom: 0;left: 50%;z-index: -1;}#sk-container-id-1 div.sk-parallel-item {display: flex;flex-direction: column;z-index: 1;position: relative;background-color: white;}#sk-container-id-1 div.sk-parallel-item:first-child::after {align-self: flex-end;width: 50%;}#sk-container-id-1 div.sk-parallel-item:last-child::after {align-self: flex-start;width: 50%;}#sk-container-id-1 div.sk-parallel-item:only-child::after {width: 0;}#sk-container-id-1 div.sk-dashed-wrapped {border: 1px dashed gray;margin: 0 0.4em 0.5em 0.4em;box-sizing: border-box;padding-bottom: 0.4em;background-color: white;}#sk-container-id-1 div.sk-label label {font-family: monospace;font-weight: bold;display: inline-block;line-height: 1.2em;}#sk-container-id-1 div.sk-label-container {text-align: center;}#sk-container-id-1 div.sk-container {/* jupyter's `normalize.less` sets `[hidden] { display: none; }` but bootstrap.min.css set `[hidden] { display: none !important; }` so we also need the `!important` here to be able to override the default hidden behavior on the sphinx rendered scikit-learn.org. See: https://github.com/scikit-learn/scikit-learn/issues/21755 */display: inline-block !important;position: relative;}#sk-container-id-1 div.sk-text-repr-fallback {display: none;}</style><div id=\"sk-container-id-1\" class=\"sk-top-container\"><div class=\"sk-text-repr-fallback\"><pre>Pipeline(steps=[(&#x27;cv&#x27;, CountVectorizer()),\n",
       "                (&#x27;lr&#x27;, LogisticRegression(C=2, max_iter=2000))])</pre><b>In a Jupyter environment, please rerun this cell to show the HTML representation or trust the notebook. <br />On GitHub, the HTML representation is unable to render, please try loading this page with nbviewer.org.</b></div><div class=\"sk-container\" hidden><div class=\"sk-item sk-dashed-wrapped\"><div class=\"sk-label-container\"><div class=\"sk-label sk-toggleable\"><input class=\"sk-toggleable__control sk-hidden--visually\" id=\"sk-estimator-id-1\" type=\"checkbox\" ><label for=\"sk-estimator-id-1\" class=\"sk-toggleable__label sk-toggleable__label-arrow\">Pipeline</label><div class=\"sk-toggleable__content\"><pre>Pipeline(steps=[(&#x27;cv&#x27;, CountVectorizer()),\n",
       "                (&#x27;lr&#x27;, LogisticRegression(C=2, max_iter=2000))])</pre></div></div></div><div class=\"sk-serial\"><div class=\"sk-item\"><div class=\"sk-estimator sk-toggleable\"><input class=\"sk-toggleable__control sk-hidden--visually\" id=\"sk-estimator-id-2\" type=\"checkbox\" ><label for=\"sk-estimator-id-2\" class=\"sk-toggleable__label sk-toggleable__label-arrow\">CountVectorizer</label><div class=\"sk-toggleable__content\"><pre>CountVectorizer()</pre></div></div></div><div class=\"sk-item\"><div class=\"sk-estimator sk-toggleable\"><input class=\"sk-toggleable__control sk-hidden--visually\" id=\"sk-estimator-id-3\" type=\"checkbox\" ><label for=\"sk-estimator-id-3\" class=\"sk-toggleable__label sk-toggleable__label-arrow\">LogisticRegression</label><div class=\"sk-toggleable__content\"><pre>LogisticRegression(C=2, max_iter=2000)</pre></div></div></div></div></div></div></div>"
      ],
      "text/plain": [
       "Pipeline(steps=[('cv', CountVectorizer()),\n",
       "                ('lr', LogisticRegression(C=2, max_iter=2000))])"
      ]
     },
     "execution_count": 61,
     "metadata": {},
     "output_type": "execute_result"
    }
   ],
   "source": [
    "pipe_LR.fit(X_train,Y_train)\n",
    "# pipe_LR.score(X_test,Y_test)\n"
   ]
  },
  {
   "cell_type": "code",
   "execution_count": 66,
   "metadata": {},
   "outputs": [
    {
     "name": "stdout",
     "output_type": "stream",
     "text": [
      " \"i have a bad day\"\n",
      "} ['sadness']\n",
      "sentence is negative\n"
     ]
    }
   ],
   "source": [
    "# pipe_LR.predict(['i am so happy to code'])\n",
    "# text = text.split(':')[0]\n",
    "z = pipe_LR.predict([str(text)])\n",
    "print(text, z)\n",
    "if sentiment>0:\n",
    "    print('sentence is positive')\n",
    "elif sentiment<0:\n",
    "    print('sentence is negative')\n",
    "else:\n",
    "    print('sentence is neutral')\n"
   ]
  }
 ],
 "metadata": {
  "kernelspec": {
   "display_name": "tf_env",
   "language": "python",
   "name": "python3"
  },
  "language_info": {
   "codemirror_mode": {
    "name": "ipython",
    "version": 3
   },
   "file_extension": ".py",
   "mimetype": "text/x-python",
   "name": "python",
   "nbconvert_exporter": "python",
   "pygments_lexer": "ipython3",
   "version": "3.9.18"
  }
 },
 "nbformat": 4,
 "nbformat_minor": 2
}
