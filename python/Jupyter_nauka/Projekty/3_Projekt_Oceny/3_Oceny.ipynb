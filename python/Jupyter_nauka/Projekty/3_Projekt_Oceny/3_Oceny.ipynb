{
 "cells": [
  {
   "cell_type": "code",
   "execution_count": 94,
   "metadata": {},
   "outputs": [
    {
     "data": {
      "text/html": [
       "<div>\n",
       "<style scoped>\n",
       "    .dataframe tbody tr th:only-of-type {\n",
       "        vertical-align: middle;\n",
       "    }\n",
       "\n",
       "    .dataframe tbody tr th {\n",
       "        vertical-align: top;\n",
       "    }\n",
       "\n",
       "    .dataframe thead th {\n",
       "        text-align: right;\n",
       "    }\n",
       "</style>\n",
       "<table border=\"1\" class=\"dataframe\">\n",
       "  <thead>\n",
       "    <tr style=\"text-align: right;\">\n",
       "      <th></th>\n",
       "      <th>Imię</th>\n",
       "      <th>Nazwisko</th>\n",
       "      <th>Ocena_matematyka</th>\n",
       "      <th>Ocena_fizyka</th>\n",
       "      <th>Ocena_angielski</th>\n",
       "    </tr>\n",
       "  </thead>\n",
       "  <tbody>\n",
       "    <tr>\n",
       "      <th>0</th>\n",
       "      <td>Jan</td>\n",
       "      <td>Kowalski</td>\n",
       "      <td>4.5</td>\n",
       "      <td>3.0</td>\n",
       "      <td>5.0</td>\n",
       "    </tr>\n",
       "    <tr>\n",
       "      <th>1</th>\n",
       "      <td>Anna</td>\n",
       "      <td>Nowak</td>\n",
       "      <td>5.0</td>\n",
       "      <td>4.0</td>\n",
       "      <td>4.5</td>\n",
       "    </tr>\n",
       "    <tr>\n",
       "      <th>2</th>\n",
       "      <td>Piotr</td>\n",
       "      <td>Nowicki</td>\n",
       "      <td>3.0</td>\n",
       "      <td>3.5</td>\n",
       "      <td>3.5</td>\n",
       "    </tr>\n",
       "    <tr>\n",
       "      <th>3</th>\n",
       "      <td>Alicja</td>\n",
       "      <td>Kowalczyk</td>\n",
       "      <td>4.0</td>\n",
       "      <td>4.0</td>\n",
       "      <td>4.0</td>\n",
       "    </tr>\n",
       "    <tr>\n",
       "      <th>4</th>\n",
       "      <td>Marek</td>\n",
       "      <td>Wójcik</td>\n",
       "      <td>5.0</td>\n",
       "      <td>4.5</td>\n",
       "      <td>5.0</td>\n",
       "    </tr>\n",
       "  </tbody>\n",
       "</table>\n",
       "</div>"
      ],
      "text/plain": [
       "     Imię   Nazwisko  Ocena_matematyka  Ocena_fizyka  Ocena_angielski\n",
       "0     Jan   Kowalski               4.5           3.0              5.0\n",
       "1    Anna      Nowak               5.0           4.0              4.5\n",
       "2   Piotr    Nowicki               3.0           3.5              3.5\n",
       "3  Alicja  Kowalczyk               4.0           4.0              4.0\n",
       "4   Marek     Wójcik               5.0           4.5              5.0"
      ]
     },
     "execution_count": 94,
     "metadata": {},
     "output_type": "execute_result"
    }
   ],
   "source": [
    "import pandas as pd\n",
    "import matplotlib.pyplot as plt\n",
    "df = pd.read_csv('Oceny.csv')\n",
    "df.head()"
   ]
  },
  {
   "cell_type": "code",
   "execution_count": 109,
   "metadata": {},
   "outputs": [
    {
     "data": {
      "image/png": "[encoded data removed]",
      "text/plain": [
       "<Figure size 640x480 with 1 Axes>"
      ]
     },
     "metadata": {},
     "output_type": "display_data"
    }
   ],
   "source": [
    "srednia = ((df['Ocena_matematyka'] + df['Ocena_fizyka'] + df['Ocena_angielski'])/3).round(2)\n",
    "\n",
    "\n",
    "df['Srednia'] = srednia\n",
    "def zaokraglenie(ocena):\n",
    "    if ocena > 4.75:\n",
    "        return 5.0\n",
    "    elif (ocena > 4.25) & (ocena < 4.75):\n",
    "        return 4.5\n",
    "    elif (ocena > 3.75) & (ocena < 4.25):\n",
    "        return 4.0\n",
    "    elif (ocena > 3.25) & (ocena < 3.75):\n",
    "        return 3.5\n",
    "    elif (ocena > 3.0) & (ocena < 3.25):\n",
    "        return 3.0\n",
    "    else :\n",
    "        return 2.0\n",
    "\n",
    "# Przypisanie wartości do kolumny 'Ocena_koncowa' z uwzględnieniem zaokrąglenia\n",
    "df['Ocena_koncowa'] = srednia.apply(zaokraglenie)\n",
    "\n",
    "# df['Ocena_koncowa'] = srednia.round(1)\n",
    "# plt.scatter(df['Imię'].index,df['Ocena_matematyka'])\n",
    "df.head()\n",
    "plt.hist(df['Ocena_koncowa'], color='tomato', align='mid', rwidth=0.8, bins=[2, 2.5, 3, 3.5, 4, 4.5, 5])\n",
    "\n",
    "# Ustawienia osi i etykiet\n",
    "plt.ylim(0, 32)  # Dostosuj zakres osi Y do danych\n",
    "plt.xticks([2.25, 2.75, 3.25, 3.75, 4.25, 4.75], labels=['2.0', '2.5', '3.0', '3.5', '4.0', '4.5'])\n",
    "\n",
    "# Dodanie etykiet osi i tytułu\n",
    "plt.xlabel('Ocena Końcowa')\n",
    "plt.ylabel('Liczba Studentów')\n",
    "plt.title('Histogram Oceny Końcowej')\n",
    "plt.show()"
   ]
  }
 ],
 "metadata": {
  "kernelspec": {
   "display_name": "Python 3",
   "language": "python",
   "name": "python3"
  },
  "language_info": {
   "codemirror_mode": {
    "name": "ipython",
    "version": 3
   },
   "file_extension": ".py",
   "mimetype": "text/x-python",
   "name": "python",
   "nbconvert_exporter": "python",
   "pygments_lexer": "ipython3",
   "version": "3.12.0"
  }
 },
 "nbformat": 4,
 "nbformat_minor": 2
}
